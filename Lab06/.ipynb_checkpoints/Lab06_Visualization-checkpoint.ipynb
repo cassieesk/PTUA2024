{
 "cells": [
  {
   "cell_type": "markdown",
   "metadata": {},
   "source": [
    "# Lab 06 Data visualization with matplotlib and seaborn\n",
    "\n",
    "Nice visualization libraries:\n",
    "- matplotlib: https://matplotlib.org/stable/index.html\n",
    "- seaborn: http://seaborn.pydata.org/\n",
    "- bokeh: http://bokeh.pydata.org/en/latest/\n",
    "- folium (geospatial visualization): https://python-visualization.github.io/folium/\n",
    "- kepler.gl (large-scale geospatial visualization): https://kepler.gl/\n",
    "\n",
    "## Please submit your finished lab06 jupyter notebook via pull request in GitHub"
   ]
  },
  {
   "cell_type": "code",
   "execution_count": 1,
   "metadata": {
    "jupyter": {
     "outputs_hidden": false
    }
   },
   "outputs": [],
   "source": [
    "# magic command to display matplotlib plots inline within the ipython notebook webpage\n",
    "%matplotlib inline\n",
    "\n",
    "# import necessary modules\n",
    "import pandas as pd, numpy as np, matplotlib.pyplot as plt\n",
    "import matplotlib.cm as cm, matplotlib.font_manager as fm\n",
    "from keplergl import KeplerGl"
   ]
  },
  {
   "cell_type": "markdown",
   "metadata": {},
   "source": [
    "## load the data sets"
   ]
  },
  {
   "cell_type": "code",
   "execution_count": 2,
   "metadata": {
    "jupyter": {
     "outputs_hidden": false
    }
   },
   "outputs": [],
   "source": [
    "# load the gps coordinate data, using the date as the full set's index\n",
    "# the data files are encoded as utf-8: specify so to prevent matplotlib from choking on diacritics\n",
    "df = pd.read_csv('data/summer-travel-gps-full.csv', encoding='utf-8', index_col='date', parse_dates=True)\n",
    "rs = pd.read_csv('data/summer-travel-gps-dbscan.csv', encoding='utf-8')"
   ]
  },
  {
   "cell_type": "code",
   "execution_count": 3,
   "metadata": {
    "jupyter": {
     "outputs_hidden": false
    }
   },
   "outputs": [
    {
     "data": {
      "text/html": [
       "<div>\n",
       "<style scoped>\n",
       "    .dataframe tbody tr th:only-of-type {\n",
       "        vertical-align: middle;\n",
       "    }\n",
       "\n",
       "    .dataframe tbody tr th {\n",
       "        vertical-align: top;\n",
       "    }\n",
       "\n",
       "    .dataframe thead th {\n",
       "        text-align: right;\n",
       "    }\n",
       "</style>\n",
       "<table border=\"1\" class=\"dataframe\">\n",
       "  <thead>\n",
       "    <tr style=\"text-align: right;\">\n",
       "      <th></th>\n",
       "      <th>lat</th>\n",
       "      <th>lon</th>\n",
       "      <th>city</th>\n",
       "      <th>country</th>\n",
       "    </tr>\n",
       "    <tr>\n",
       "      <th>date</th>\n",
       "      <th></th>\n",
       "      <th></th>\n",
       "      <th></th>\n",
       "      <th></th>\n",
       "    </tr>\n",
       "  </thead>\n",
       "  <tbody>\n",
       "    <tr>\n",
       "      <th>2014-05-14 09:07:00</th>\n",
       "      <td>51.481292</td>\n",
       "      <td>-0.451011</td>\n",
       "      <td>West Drayton</td>\n",
       "      <td>United Kingdom</td>\n",
       "    </tr>\n",
       "    <tr>\n",
       "      <th>2014-05-14 09:22:00</th>\n",
       "      <td>51.474005</td>\n",
       "      <td>-0.450999</td>\n",
       "      <td>Hounslow</td>\n",
       "      <td>United Kingdom</td>\n",
       "    </tr>\n",
       "    <tr>\n",
       "      <th>2014-05-14 10:51:00</th>\n",
       "      <td>51.478199</td>\n",
       "      <td>-0.446081</td>\n",
       "      <td>Hounslow</td>\n",
       "      <td>United Kingdom</td>\n",
       "    </tr>\n",
       "    <tr>\n",
       "      <th>2014-05-14 11:24:00</th>\n",
       "      <td>51.478199</td>\n",
       "      <td>-0.446081</td>\n",
       "      <td>Hounslow</td>\n",
       "      <td>United Kingdom</td>\n",
       "    </tr>\n",
       "    <tr>\n",
       "      <th>2014-05-14 11:38:00</th>\n",
       "      <td>51.474146</td>\n",
       "      <td>-0.451562</td>\n",
       "      <td>Hounslow</td>\n",
       "      <td>United Kingdom</td>\n",
       "    </tr>\n",
       "  </tbody>\n",
       "</table>\n",
       "</div>"
      ],
      "text/plain": [
       "                           lat       lon          city         country\n",
       "date                                                                  \n",
       "2014-05-14 09:07:00  51.481292 -0.451011  West Drayton  United Kingdom\n",
       "2014-05-14 09:22:00  51.474005 -0.450999      Hounslow  United Kingdom\n",
       "2014-05-14 10:51:00  51.478199 -0.446081      Hounslow  United Kingdom\n",
       "2014-05-14 11:24:00  51.478199 -0.446081      Hounslow  United Kingdom\n",
       "2014-05-14 11:38:00  51.474146 -0.451562      Hounslow  United Kingdom"
      ]
     },
     "execution_count": 3,
     "metadata": {},
     "output_type": "execute_result"
    }
   ],
   "source": [
    "df.head()"
   ]
  },
  {
   "cell_type": "code",
   "execution_count": 4,
   "metadata": {
    "jupyter": {
     "outputs_hidden": false
    }
   },
   "outputs": [
    {
     "data": {
      "text/html": [
       "<div>\n",
       "<style scoped>\n",
       "    .dataframe tbody tr th:only-of-type {\n",
       "        vertical-align: middle;\n",
       "    }\n",
       "\n",
       "    .dataframe tbody tr th {\n",
       "        vertical-align: top;\n",
       "    }\n",
       "\n",
       "    .dataframe thead th {\n",
       "        text-align: right;\n",
       "    }\n",
       "</style>\n",
       "<table border=\"1\" class=\"dataframe\">\n",
       "  <thead>\n",
       "    <tr style=\"text-align: right;\">\n",
       "      <th></th>\n",
       "      <th>lat</th>\n",
       "      <th>lon</th>\n",
       "      <th>date</th>\n",
       "      <th>city</th>\n",
       "      <th>country</th>\n",
       "    </tr>\n",
       "  </thead>\n",
       "  <tbody>\n",
       "    <tr>\n",
       "      <th>0</th>\n",
       "      <td>51.478199</td>\n",
       "      <td>-0.446081</td>\n",
       "      <td>05/14/2014 10:51</td>\n",
       "      <td>Hounslow</td>\n",
       "      <td>United Kingdom</td>\n",
       "    </tr>\n",
       "    <tr>\n",
       "      <th>1</th>\n",
       "      <td>38.781775</td>\n",
       "      <td>-9.137544</td>\n",
       "      <td>05/14/2014 15:11</td>\n",
       "      <td>Lisbon</td>\n",
       "      <td>Portugal</td>\n",
       "    </tr>\n",
       "    <tr>\n",
       "      <th>2</th>\n",
       "      <td>38.771939</td>\n",
       "      <td>-9.128911</td>\n",
       "      <td>05/14/2014 15:41</td>\n",
       "      <td>Lisbon</td>\n",
       "      <td>Portugal</td>\n",
       "    </tr>\n",
       "    <tr>\n",
       "      <th>3</th>\n",
       "      <td>38.742987</td>\n",
       "      <td>-9.147780</td>\n",
       "      <td>05/14/2014 16:11</td>\n",
       "      <td>Lisbon</td>\n",
       "      <td>Portugal</td>\n",
       "    </tr>\n",
       "    <tr>\n",
       "      <th>4</th>\n",
       "      <td>38.693780</td>\n",
       "      <td>-9.206363</td>\n",
       "      <td>05/15/2014 14:19</td>\n",
       "      <td>Lisbon</td>\n",
       "      <td>Portugal</td>\n",
       "    </tr>\n",
       "  </tbody>\n",
       "</table>\n",
       "</div>"
      ],
      "text/plain": [
       "         lat       lon              date      city         country\n",
       "0  51.478199 -0.446081  05/14/2014 10:51  Hounslow  United Kingdom\n",
       "1  38.781775 -9.137544  05/14/2014 15:11    Lisbon        Portugal\n",
       "2  38.771939 -9.128911  05/14/2014 15:41    Lisbon        Portugal\n",
       "3  38.742987 -9.147780  05/14/2014 16:11    Lisbon        Portugal\n",
       "4  38.693780 -9.206363  05/15/2014 14:19    Lisbon        Portugal"
      ]
     },
     "execution_count": 4,
     "metadata": {},
     "output_type": "execute_result"
    }
   ],
   "source": [
    "rs.head()"
   ]
  },
  {
   "cell_type": "code",
   "execution_count": 5,
   "metadata": {},
   "outputs": [
    {
     "data": {
      "text/plain": [
       "Index(['lat', 'lon', 'date', 'city', 'country'], dtype='object')"
      ]
     },
     "execution_count": 5,
     "metadata": {},
     "output_type": "execute_result"
    }
   ],
   "source": [
    "rs.columns"
   ]
  },
  {
   "cell_type": "code",
   "execution_count": 6,
   "metadata": {},
   "outputs": [
    {
     "data": {
      "text/plain": [
       "<bound method NDFrame.describe of            lat        lon              date      city         country\n",
       "0    51.478199  -0.446081  05/14/2014 10:51  Hounslow  United Kingdom\n",
       "1    38.781775  -9.137544  05/14/2014 15:11    Lisbon        Portugal\n",
       "2    38.771939  -9.128911  05/14/2014 15:41    Lisbon        Portugal\n",
       "3    38.742987  -9.147780  05/14/2014 16:11    Lisbon        Portugal\n",
       "4    38.693780  -9.206363  05/15/2014 14:19    Lisbon        Portugal\n",
       "..         ...        ...               ...       ...             ...\n",
       "153  40.984723  28.831658  07/06/2014 21:43  Istanbul          Turkey\n",
       "154  41.001629  28.949191  07/06/2014 21:58  Istanbul          Turkey\n",
       "155  41.014963  29.010762  07/07/2014 16:56  Istanbul          Turkey\n",
       "156  41.033193  28.982041  07/08/2014 15:30  Istanbul          Turkey\n",
       "157  48.356285  11.791710  07/09/2014 13:17    Munich         Germany\n",
       "\n",
       "[158 rows x 5 columns]>"
      ]
     },
     "execution_count": 6,
     "metadata": {},
     "output_type": "execute_result"
    }
   ],
   "source": [
    "rs.describe"
   ]
  },
  {
   "cell_type": "code",
   "execution_count": 7,
   "metadata": {},
   "outputs": [
    {
     "data": {
      "text/html": [
       "<div>\n",
       "<style scoped>\n",
       "    .dataframe tbody tr th:only-of-type {\n",
       "        vertical-align: middle;\n",
       "    }\n",
       "\n",
       "    .dataframe tbody tr th {\n",
       "        vertical-align: top;\n",
       "    }\n",
       "\n",
       "    .dataframe thead th {\n",
       "        text-align: right;\n",
       "    }\n",
       "</style>\n",
       "<table border=\"1\" class=\"dataframe\">\n",
       "  <thead>\n",
       "    <tr style=\"text-align: right;\">\n",
       "      <th></th>\n",
       "      <th>lat</th>\n",
       "      <th>lon</th>\n",
       "      <th>date</th>\n",
       "      <th>city</th>\n",
       "      <th>country</th>\n",
       "    </tr>\n",
       "  </thead>\n",
       "  <tbody>\n",
       "    <tr>\n",
       "      <th>152</th>\n",
       "      <td>40.979387</td>\n",
       "      <td>28.818796</td>\n",
       "      <td>07/06/2014 21:12</td>\n",
       "      <td>Istanbul</td>\n",
       "      <td>Turkey</td>\n",
       "    </tr>\n",
       "    <tr>\n",
       "      <th>153</th>\n",
       "      <td>40.984723</td>\n",
       "      <td>28.831658</td>\n",
       "      <td>07/06/2014 21:43</td>\n",
       "      <td>Istanbul</td>\n",
       "      <td>Turkey</td>\n",
       "    </tr>\n",
       "    <tr>\n",
       "      <th>154</th>\n",
       "      <td>41.001629</td>\n",
       "      <td>28.949191</td>\n",
       "      <td>07/06/2014 21:58</td>\n",
       "      <td>Istanbul</td>\n",
       "      <td>Turkey</td>\n",
       "    </tr>\n",
       "    <tr>\n",
       "      <th>155</th>\n",
       "      <td>41.014963</td>\n",
       "      <td>29.010762</td>\n",
       "      <td>07/07/2014 16:56</td>\n",
       "      <td>Istanbul</td>\n",
       "      <td>Turkey</td>\n",
       "    </tr>\n",
       "    <tr>\n",
       "      <th>156</th>\n",
       "      <td>41.033193</td>\n",
       "      <td>28.982041</td>\n",
       "      <td>07/08/2014 15:30</td>\n",
       "      <td>Istanbul</td>\n",
       "      <td>Turkey</td>\n",
       "    </tr>\n",
       "  </tbody>\n",
       "</table>\n",
       "</div>"
      ],
      "text/plain": [
       "           lat        lon              date      city country\n",
       "152  40.979387  28.818796  07/06/2014 21:12  Istanbul  Turkey\n",
       "153  40.984723  28.831658  07/06/2014 21:43  Istanbul  Turkey\n",
       "154  41.001629  28.949191  07/06/2014 21:58  Istanbul  Turkey\n",
       "155  41.014963  29.010762  07/07/2014 16:56  Istanbul  Turkey\n",
       "156  41.033193  28.982041  07/08/2014 15:30  Istanbul  Turkey"
      ]
     },
     "execution_count": 7,
     "metadata": {},
     "output_type": "execute_result"
    }
   ],
   "source": [
    "rs[rs['country']=='Turkey']\n"
   ]
  },
  {
   "cell_type": "code",
   "execution_count": 9,
   "metadata": {},
   "outputs": [
    {
     "data": {
      "text/html": [
       "<div>\n",
       "<style scoped>\n",
       "    .dataframe tbody tr th:only-of-type {\n",
       "        vertical-align: middle;\n",
       "    }\n",
       "\n",
       "    .dataframe tbody tr th {\n",
       "        vertical-align: top;\n",
       "    }\n",
       "\n",
       "    .dataframe thead th {\n",
       "        text-align: right;\n",
       "    }\n",
       "</style>\n",
       "<table border=\"1\" class=\"dataframe\">\n",
       "  <thead>\n",
       "    <tr style=\"text-align: right;\">\n",
       "      <th></th>\n",
       "      <th>lat</th>\n",
       "      <th>lon</th>\n",
       "      <th>date</th>\n",
       "      <th>city</th>\n",
       "      <th>country</th>\n",
       "    </tr>\n",
       "  </thead>\n",
       "  <tbody>\n",
       "    <tr>\n",
       "      <th>0</th>\n",
       "      <td>51.478199</td>\n",
       "      <td>-0.446081</td>\n",
       "      <td>05/14/2014 10:51</td>\n",
       "      <td>Hounslow</td>\n",
       "      <td>United Kingdom</td>\n",
       "    </tr>\n",
       "    <tr>\n",
       "      <th>1</th>\n",
       "      <td>38.781775</td>\n",
       "      <td>-9.137544</td>\n",
       "      <td>05/14/2014 15:11</td>\n",
       "      <td>Lisbon</td>\n",
       "      <td>Portugal</td>\n",
       "    </tr>\n",
       "    <tr>\n",
       "      <th>2</th>\n",
       "      <td>38.771939</td>\n",
       "      <td>-9.128911</td>\n",
       "      <td>05/14/2014 15:41</td>\n",
       "      <td>Lisbon</td>\n",
       "      <td>Portugal</td>\n",
       "    </tr>\n",
       "    <tr>\n",
       "      <th>3</th>\n",
       "      <td>38.742987</td>\n",
       "      <td>-9.147780</td>\n",
       "      <td>05/14/2014 16:11</td>\n",
       "      <td>Lisbon</td>\n",
       "      <td>Portugal</td>\n",
       "    </tr>\n",
       "    <tr>\n",
       "      <th>4</th>\n",
       "      <td>38.693780</td>\n",
       "      <td>-9.206363</td>\n",
       "      <td>05/15/2014 14:19</td>\n",
       "      <td>Lisbon</td>\n",
       "      <td>Portugal</td>\n",
       "    </tr>\n",
       "    <tr>\n",
       "      <th>...</th>\n",
       "      <td>...</td>\n",
       "      <td>...</td>\n",
       "      <td>...</td>\n",
       "      <td>...</td>\n",
       "      <td>...</td>\n",
       "    </tr>\n",
       "    <tr>\n",
       "      <th>153</th>\n",
       "      <td>40.984723</td>\n",
       "      <td>28.831658</td>\n",
       "      <td>07/06/2014 21:43</td>\n",
       "      <td>Istanbul</td>\n",
       "      <td>Turkey</td>\n",
       "    </tr>\n",
       "    <tr>\n",
       "      <th>154</th>\n",
       "      <td>41.001629</td>\n",
       "      <td>28.949191</td>\n",
       "      <td>07/06/2014 21:58</td>\n",
       "      <td>Istanbul</td>\n",
       "      <td>Turkey</td>\n",
       "    </tr>\n",
       "    <tr>\n",
       "      <th>155</th>\n",
       "      <td>41.014963</td>\n",
       "      <td>29.010762</td>\n",
       "      <td>07/07/2014 16:56</td>\n",
       "      <td>Istanbul</td>\n",
       "      <td>Turkey</td>\n",
       "    </tr>\n",
       "    <tr>\n",
       "      <th>156</th>\n",
       "      <td>41.033193</td>\n",
       "      <td>28.982041</td>\n",
       "      <td>07/08/2014 15:30</td>\n",
       "      <td>Istanbul</td>\n",
       "      <td>Turkey</td>\n",
       "    </tr>\n",
       "    <tr>\n",
       "      <th>157</th>\n",
       "      <td>48.356285</td>\n",
       "      <td>11.791710</td>\n",
       "      <td>07/09/2014 13:17</td>\n",
       "      <td>Munich</td>\n",
       "      <td>Germany</td>\n",
       "    </tr>\n",
       "  </tbody>\n",
       "</table>\n",
       "<p>158 rows × 5 columns</p>\n",
       "</div>"
      ],
      "text/plain": [
       "           lat        lon              date      city         country\n",
       "0    51.478199  -0.446081  05/14/2014 10:51  Hounslow  United Kingdom\n",
       "1    38.781775  -9.137544  05/14/2014 15:11    Lisbon        Portugal\n",
       "2    38.771939  -9.128911  05/14/2014 15:41    Lisbon        Portugal\n",
       "3    38.742987  -9.147780  05/14/2014 16:11    Lisbon        Portugal\n",
       "4    38.693780  -9.206363  05/15/2014 14:19    Lisbon        Portugal\n",
       "..         ...        ...               ...       ...             ...\n",
       "153  40.984723  28.831658  07/06/2014 21:43  Istanbul          Turkey\n",
       "154  41.001629  28.949191  07/06/2014 21:58  Istanbul          Turkey\n",
       "155  41.014963  29.010762  07/07/2014 16:56  Istanbul          Turkey\n",
       "156  41.033193  28.982041  07/08/2014 15:30  Istanbul          Turkey\n",
       "157  48.356285  11.791710  07/09/2014 13:17    Munich         Germany\n",
       "\n",
       "[158 rows x 5 columns]"
      ]
     },
     "execution_count": 9,
     "metadata": {},
     "output_type": "execute_result"
    }
   ],
   "source": [
    "rs"
   ]
  },
  {
   "cell_type": "markdown",
   "metadata": {},
   "source": [
    "## First up: Bar Charts"
   ]
  },
  {
   "cell_type": "code",
   "execution_count": 10,
   "metadata": {
    "jupyter": {
     "outputs_hidden": false
    }
   },
   "outputs": [
    {
     "data": {
      "text/plain": [
       "<Axes: xlabel='country'>"
      ]
     },
     "execution_count": 10,
     "metadata": {},
     "output_type": "execute_result"
    },
    {
     "data": {
      "image/png": "[encoded data removed]",
      "text/plain": [
       "<Figure size 640x480 with 1 Axes>"
      ]
     },
     "metadata": {},
     "output_type": "display_data"
    }
   ],
   "source": [
    "# Q1: Can you draw a bar chart for the most visited countries by using matplotlib and seaborn? You can use the df dataframe.\n",
    "# Please style the chart to make it look nicer\n",
    "# such as figsize, width, alpha, color, edgecolor, grid, xlim, and ylim\n",
    "\n",
    "county_visit = rs.groupby(rs['country'])[['date']].count().sort_values(by='date', ascending=False)\n",
    "county_visit.plot(kind='bar', color='g') # bar plot"
   ]
  },
  {
   "cell_type": "markdown",
   "metadata": {},
   "source": [
    "Now you try: re-create the plot above, but make the bars orange with maroon edges."
   ]
  },
  {
   "cell_type": "code",
   "execution_count": 11,
   "metadata": {
    "jupyter": {
     "outputs_hidden": false
    }
   },
   "outputs": [
    {
     "data": {
      "text/plain": [
       "<Axes: xlabel='city'>"
      ]
     },
     "execution_count": 11,
     "metadata": {},
     "output_type": "execute_result"
    },
    {
     "data": {
      "image/png": "[encoded data removed]",
      "text/plain": [
       "<Figure size 640x480 with 1 Axes>"
      ]
     },
     "metadata": {},
     "output_type": "display_data"
    }
   ],
   "source": [
    "# Q2: Draw the same bar chart, but now for the most visited cities instead of countries\n",
    "county_visit = rs.groupby(rs['city'])[['date']].count().sort_values(by='date', ascending=False).head(10)\n",
    "county_visit.plot(kind='bar', color='g') # bar plot"
   ]
  },
  {
   "cell_type": "markdown",
   "metadata": {},
   "source": [
    "## Next: scatter plots as simple maps"
   ]
  },
  {
   "cell_type": "code",
   "execution_count": 12,
   "metadata": {
    "jupyter": {
     "outputs_hidden": false
    }
   },
   "outputs": [
    {
     "data": {
      "image/png": "[encoded data removed]",
      "text/plain": [
       "<Figure size 800x600 with 1 Axes>"
      ]
     },
     "metadata": {},
     "output_type": "display_data"
    }
   ],
   "source": [
    "# Q3: Draw a scatter plot the longitude and latitude data, with matplotlib and seaborn defaults. \n",
    "# You can use the rs dataframe.\n",
    "# Please style the chart to make it look nicer with good size and alpha settings. \n",
    "plt.figure(1, figsize=(8,6))\n",
    "plt.suptitle('Lat vs Long', fontsize=14)\n",
    "plt.xlabel('Latitude')\n",
    "plt.ylabel('Longitude')\n",
    "# s: marker size\n",
    "ax = plt.scatter(rs['lat'], rs['lon'], color='g', alpha=.5, edgecolor='g', s=10)\n",
    "plt.show()"
   ]
  },
  {
   "cell_type": "code",
   "execution_count": 14,
   "metadata": {},
   "outputs": [
    {
     "data": {
      "text/plain": [
       "<Axes: xlabel='lat', ylabel='lon'>"
      ]
     },
     "execution_count": 14,
     "metadata": {},
     "output_type": "execute_result"
    },
    {
     "data": {
      "image/png": "[encoded data removed]",
      "text/plain": [
       "<Figure size 640x480 with 1 Axes>"
      ]
     },
     "metadata": {},
     "output_type": "display_data"
    }
   ],
   "source": [
    "import seaborn as sns\n",
    "#sns.set(color_codes=True)\n",
    "sns.set()\n",
    "sns.scatterplot(data=rs, x=\"lat\", y=\"lon\")"
   ]
  },
  {
   "cell_type": "markdown",
   "metadata": {},
   "source": [
    "## Line charts, with annotation"
   ]
  },
  {
   "cell_type": "code",
   "execution_count": 15,
   "metadata": {
    "jupyter": {
     "outputs_hidden": false
    }
   },
   "outputs": [
    {
     "data": {
      "text/plain": [
       "2014-05-14    36\n",
       "2014-05-15    61\n",
       "2014-05-16    57\n",
       "2014-05-17    64\n",
       "2014-05-18    50\n",
       "dtype: int64"
      ]
     },
     "execution_count": 15,
     "metadata": {},
     "output_type": "execute_result"
    }
   ],
   "source": [
    "# get the count of records by date\n",
    "countdata = df.groupby(df.index.date).size()\n",
    "countdata.head()"
   ]
  },
  {
   "cell_type": "code",
   "execution_count": 16,
   "metadata": {},
   "outputs": [
    {
     "data": {
      "text/plain": [
       "57"
      ]
     },
     "execution_count": 16,
     "metadata": {},
     "output_type": "execute_result"
    }
   ],
   "source": [
    "len(countdata)"
   ]
  },
  {
   "cell_type": "code",
   "execution_count": 17,
   "metadata": {},
   "outputs": [],
   "source": [
    "data1 = pd.DataFrame(countdata, columns = [\"Column1\"]).reset_index()"
   ]
  },
  {
   "cell_type": "code",
   "execution_count": 18,
   "metadata": {},
   "outputs": [],
   "source": [
    "data1 = data1.rename(columns={\"index\": \"date\"})"
   ]
  },
  {
   "cell_type": "code",
   "execution_count": 19,
   "metadata": {},
   "outputs": [
    {
     "data": {
      "text/html": [
       "<div>\n",
       "<style scoped>\n",
       "    .dataframe tbody tr th:only-of-type {\n",
       "        vertical-align: middle;\n",
       "    }\n",
       "\n",
       "    .dataframe tbody tr th {\n",
       "        vertical-align: top;\n",
       "    }\n",
       "\n",
       "    .dataframe thead th {\n",
       "        text-align: right;\n",
       "    }\n",
       "</style>\n",
       "<table border=\"1\" class=\"dataframe\">\n",
       "  <thead>\n",
       "    <tr style=\"text-align: right;\">\n",
       "      <th></th>\n",
       "      <th>date</th>\n",
       "      <th>Column1</th>\n",
       "    </tr>\n",
       "  </thead>\n",
       "  <tbody>\n",
       "    <tr>\n",
       "      <th>0</th>\n",
       "      <td>2014-05-14</td>\n",
       "      <td>36</td>\n",
       "    </tr>\n",
       "    <tr>\n",
       "      <th>1</th>\n",
       "      <td>2014-05-15</td>\n",
       "      <td>61</td>\n",
       "    </tr>\n",
       "    <tr>\n",
       "      <th>2</th>\n",
       "      <td>2014-05-16</td>\n",
       "      <td>57</td>\n",
       "    </tr>\n",
       "    <tr>\n",
       "      <th>3</th>\n",
       "      <td>2014-05-17</td>\n",
       "      <td>64</td>\n",
       "    </tr>\n",
       "    <tr>\n",
       "      <th>4</th>\n",
       "      <td>2014-05-18</td>\n",
       "      <td>50</td>\n",
       "    </tr>\n",
       "  </tbody>\n",
       "</table>\n",
       "</div>"
      ],
      "text/plain": [
       "         date  Column1\n",
       "0  2014-05-14       36\n",
       "1  2014-05-15       61\n",
       "2  2014-05-16       57\n",
       "3  2014-05-17       64\n",
       "4  2014-05-18       50"
      ]
     },
     "execution_count": 19,
     "metadata": {},
     "output_type": "execute_result"
    }
   ],
   "source": [
    "data1.head()"
   ]
  },
  {
   "cell_type": "code",
   "execution_count": 20,
   "metadata": {
    "jupyter": {
     "outputs_hidden": false
    }
   },
   "outputs": [
    {
     "data": {
      "image/png": "[encoded data removed]",
      "text/plain": [
       "<Figure size 640x480 with 1 Axes>"
      ]
     },
     "metadata": {},
     "output_type": "display_data"
    }
   ],
   "source": [
    "# Q4: Draw a  matplotlib and seaborn line chart from countdata. \n",
    "# Please style the chart to make it look nicer with good size and alpha settings. \n",
    "plt.plot(np.sort(data1['Column1']))\n",
    "plt.show()"
   ]
  },
  {
   "cell_type": "code",
   "execution_count": 10,
   "metadata": {},
   "outputs": [],
   "source": [
    "# Q5: Now you try: re-create the plot above with different line widths, colors, and point markers. \n",
    "# Play with moving the annotation labels around. Make the vertical tick marks 3 days apart instead of 5.\n",
    "# experiment with a more advanced challenge like smoothing the line:\n",
    "# - https://stackoverflow.com/questions/5283649/plot-smooth-line-with-pyplot\n",
    "# - https://stackoverflow.com/questions/25825946/generating-smooth-line-graph-using-matplotlib"
   ]
  },
  {
   "cell_type": "markdown",
   "metadata": {},
   "source": [
    "## Pie charts"
   ]
  },
  {
   "cell_type": "code",
   "execution_count": 21,
   "metadata": {
    "jupyter": {
     "outputs_hidden": false
    }
   },
   "outputs": [
    {
     "name": "stdout",
     "output_type": "stream",
     "text": [
      "113\n"
     ]
    },
    {
     "data": {
      "text/plain": [
       "city\n",
       "Barcelona    632\n",
       "Lisbon       158\n",
       "Tübingen     131\n",
       "Prague        97\n",
       "Istanbul      94\n",
       "Name: count, dtype: int64"
      ]
     },
     "execution_count": 21,
     "metadata": {},
     "output_type": "execute_result"
    }
   ],
   "source": [
    "cities = df['city'].value_counts()\n",
    "print(cities.count())\n",
    "cities.head()"
   ]
  },
  {
   "cell_type": "code",
   "execution_count": 31,
   "metadata": {},
   "outputs": [
    {
     "data": {
      "text/plain": [
       "city\n",
       "Barcelona    632\n",
       "Lisbon       158\n",
       "Tübingen     131\n",
       "Prague        97\n",
       "Istanbul      94\n",
       "Name: count, dtype: int64"
      ]
     },
     "execution_count": 31,
     "metadata": {},
     "output_type": "execute_result"
    }
   ],
   "source": [
    "piechart_cities = cities.head()\n",
    "piechart_cities"
   ]
  },
  {
   "cell_type": "code",
   "execution_count": 35,
   "metadata": {
    "jupyter": {
     "outputs_hidden": false
    }
   },
   "outputs": [
    {
     "data": {
      "text/plain": [
       "([<matplotlib.patches.Wedge at 0x12ed248d0>,\n",
       "  <matplotlib.patches.Wedge at 0x12ed53310>,\n",
       "  <matplotlib.patches.Wedge at 0x12ed60510>,\n",
       "  <matplotlib.patches.Wedge at 0x12ed61bd0>,\n",
       "  <matplotlib.patches.Wedge at 0x12ed63110>],\n",
       " [Text(-0.23437385735178004, 1.0747413153824728, 'Barcelona'),\n",
       "  Text(-0.7044178400967278, -0.844864194148066, 'Lisbon'),\n",
       "  Text(0.13330212235968206, -1.0918931010746449, 'Tübingen'),\n",
       "  Text(0.7622839846113447, -0.7930467368352584, 'Prague'),\n",
       "  Text(1.061438394575761, -0.2887014626226047, 'Istanbul')],\n",
       " [Text(-0.12784028582824364, 0.5862225356631668, '56.8%'),\n",
       "  Text(-0.3842279127800333, -0.46083501498985413, '14.2%'),\n",
       "  Text(0.07271024855982657, -0.5955780551316244, '11.8%'),\n",
       "  Text(0.4157912643334607, -0.4325709473646863, '8.7%'),\n",
       "  Text(0.5789663970413241, -0.15747352506687526, '8.5%')])"
      ]
     },
     "execution_count": 35,
     "metadata": {},
     "output_type": "execute_result"
    },
    {
     "data": {
      "image/png": "[encoded data removed]",
      "text/plain": [
       "<Figure size 640x480 with 1 Axes>"
      ]
     },
     "metadata": {},
     "output_type": "display_data"
    }
   ],
   "source": [
    "# Q6: draw a pie chart for cities.\n",
    "# Please style the chart to make it look nicer. \n",
    "labels = 'Barcelona','Lisbon','Tübingen', 'Prague','Istanbul'\n",
    "fig, ax = plt.subplots()\n",
    "ax.pie(piechart_cities, labels = labels,autopct='%1.1f%%')"
   ]
  },
  {
   "cell_type": "markdown",
   "metadata": {},
   "source": [
    "## Extra task: Kepler.gl"
   ]
  },
  {
   "cell_type": "code",
   "execution_count": 39,
   "metadata": {},
   "outputs": [
    {
     "name": "stdout",
     "output_type": "stream",
     "text": [
      "Selected Jupyter core packages...\n",
      "IPython          : 8.15.0\n",
      "ipykernel        : 6.25.0\n",
      "ipywidgets       : 7.8.1\n",
      "jupyter_client   : 7.4.9\n",
      "jupyter_core     : 5.3.0\n",
      "jupyter_server   : 1.23.4\n",
      "jupyterlab       : 3.6.3\n",
      "nbclient         : 0.5.13\n",
      "nbconvert        : 6.5.4\n",
      "nbformat         : 5.9.2\n",
      "notebook         : 6.5.4\n",
      "qtconsole        : 5.4.2\n",
      "traitlets        : 5.7.1\n"
     ]
    }
   ],
   "source": [
    " ! jupyter --version"
   ]
  },
  {
   "cell_type": "code",
   "execution_count": 42,
   "metadata": {},
   "outputs": [
    {
     "name": "stdout",
     "output_type": "stream",
     "text": [
      "User Guide: https://docs.kepler.gl/docs/keplergl-jupyter\n"
     ]
    },
    {
     "data": {
      "application/vnd.jupyter.widget-view+json": {
       "model_id": "d601c17eb9a847d9a21c5ef4f713382d",
       "version_major": 2,
       "version_minor": 0
      },
      "text/plain": [
       "KeplerGl()"
      ]
     },
     "metadata": {},
     "output_type": "display_data"
    }
   ],
   "source": [
    "# Q7: can you visualize the GPS points by using Kepler.gl? \n",
    "# Here are some examples: https://docs.kepler.gl/docs/keplergl-jupyter\n",
    "# HELP I AM GETTING AN ERROR - I DOWNLOADED KEPLER AS WELL AS NODE ON TERMINAL\n",
    "#\"ERROR: Failed to load model class 'KeplerGlModal' from module 'keplergl-jupyter'\n",
    "#makeError@http://localhost:8889/static/components/requirejs/require.js:168:26\n",
    "#onScriptError@http://localhost:8889/static/components/requirejs/require.js:1735:45\"\n",
    "\n",
    "\n",
    "from keplergl import KeplerGl\n",
    "map_1 = KeplerGl()\n",
    "map_1"
   ]
  },
  {
   "cell_type": "code",
   "execution_count": null,
   "metadata": {},
   "outputs": [],
   "source": []
  }
 ],
 "metadata": {
  "celltoolbar": "Raw Cell Format",
  "kernelspec": {
   "display_name": "Python 3 (ipykernel)",
   "language": "python",
   "name": "python3"
  },
  "language_info": {
   "codemirror_mode": {
    "name": "ipython",
    "version": 3
   },
   "file_extension": ".py",
   "mimetype": "text/x-python",
   "name": "python",
   "nbconvert_exporter": "python",
   "pygments_lexer": "ipython3",
   "version": "3.11.5"
  }
 },
 "nbformat": 4,
 "nbformat_minor": 4
}
